{
 "cells": [
  {
   "cell_type": "markdown",
   "source": [
    "# Классификация текстов при помощи алгоритма KNN\n",
    "\n",
    "## Постановка задачи\n",
    "Необходимо написать программу для классификации текстов. Пайплан этого процесса можно определить следующим образом\n",
    "<ul>\n",
    "<li>извлечение текста из файлов </li>\n",
    "<li>удаление нетекстовых символов</li>\n",
    "<li>удаление \"стоп-слов\"</li>\n",
    "<li>разбиение текста на токены</li>\n",
    "<li>лемматизация</li>\n",
    "<li>вычисление TF-IDF матрицы</li>\n",
    "<li>подготовка модели KNN</li>\n",
    "<li>определение жанра неизвестного произведения</li>\n",
    "</ul>\n",
    "\n",
    "## Структура корпуса\n",
    "Текстовой корпус включает в себя произведения двух жанров: научной фантастики и детектива.\n",
    "Для каждого жанра были отобраны пять наиболее известных авторов. <br>\n",
    "Каждый автор представлен двумя небольшими произведениями (рассказами или повестями). <br>\n",
    "Объем каждого произведения составляет\n",
    "около 10-20 страниц.\n",
    "\n",
    "Формат текстовых книг: epub.\n",
    "\n",
    "Для жанра научной фантастики были отобраны следующие писатели:\n",
    "<ul>\n",
    "<li>Айзек Азимов</li>\n",
    "<li>Рей Бредберри </li>\n",
    "<li>Харлон Элиссон</li>\n",
    "<li>Станислав Лем</li>\n",
    "<li>Клиффорд Саймак</li>\n",
    "</ul>\n",
    "\n",
    "Для жанра детективных историй:\n",
    "<ul>\n",
    "<li>Конан Дойль</li>\n",
    "<li>Гиберт Кей Честертон</li>\n",
    "<li>Эдгар Аллан По</li>\n",
    "<li>Рекс Стаут</li>\n",
    "<li>Джон Карр</li>\n",
    "</ul>"
   ],
   "metadata": {
    "collapsed": false,
    "pycharm": {
     "name": "#%% md\n"
    }
   }
  },
  {
   "cell_type": "markdown",
   "source": [
    "## Программная реализация\n",
    "\n",
    "### Импорт модулей и библиотек"
   ],
   "metadata": {
    "collapsed": false,
    "pycharm": {
     "name": "#%% md\n"
    }
   }
  },
  {
   "cell_type": "code",
   "execution_count": 13,
   "outputs": [],
   "source": [
    "import re\n",
    "import os\n",
    "import requests\n",
    "import pymorphy2\n",
    "import numpy as np\n",
    "from pathlib import Path\n",
    "from sklearn.feature_extraction.text import TfidfVectorizer\n",
    "from sklearn.neighbors import KNeighborsClassifier\n",
    "from epub_conversion.utils import open_book, convert_epub_to_lines"
   ],
   "metadata": {
    "collapsed": false,
    "pycharm": {
     "name": "#%%\n"
    }
   }
  },
  {
   "cell_type": "markdown",
   "source": [
    "### Морфологический анализатор\n",
    "Лемматизация -- это процесс приведения словоформы к лемме, то есть её нормальной (словарной) форме.<br>\n",
    "Лемматизация анализируемого текста позволяет снизить степень разряженности желаемой матрицы признаков.\n",
    "\n",
    "Существует несколько модулей языка Python, способных лемматизировать текст на русском языке.\n",
    "В данной работе используется модуль *pymorphy2*.\n",
    "\n",
    "Стоит отметить, что данный этап - довольно ресурсоемкий с вычислительной точки зрения,\n",
    "так как поиск по словарям занимает существенное время.\n"
   ],
   "metadata": {
    "collapsed": false,
    "pycharm": {
     "name": "#%% md\n"
    }
   }
  },
  {
   "cell_type": "code",
   "execution_count": 2,
   "outputs": [],
   "source": [
    "morph = pymorphy2.MorphAnalyzer(lang='ru')"
   ],
   "metadata": {
    "collapsed": false,
    "pycharm": {
     "name": "#%%\n"
    }
   }
  },
  {
   "cell_type": "markdown",
   "source": [
    "### Получение списка стоп-слов для русского языка\n",
    "\n",
    "Стоп-слова – это слова, которые исключаются из текста до или после обработки текста. Такие слова могут добавить много шума, поэтому необходимо избавляться от нерелевантных слов.\n",
    "\n",
    "Под стоп-словами это обычно понимают артикли, междометия, союзы и т.д., которые не несут смысловой нагрузки.\n",
    "При этом надо понимать, что не существует универсального списка стоп-слов, все зависит от конкретного случая."
   ],
   "metadata": {
    "collapsed": false,
    "pycharm": {
     "name": "#%% md\n"
    }
   }
  },
  {
   "cell_type": "code",
   "execution_count": 3,
   "outputs": [],
   "source": [
    "def get_text_from_url(url, encoding='utf-8', to_lower=True):\n",
    "    url = str(url)\n",
    "    if url.startswith('http'):\n",
    "        r = requests.get(url)\n",
    "        if not r.ok:\n",
    "            r.raise_for_status()\n",
    "        return r.text.lower() if to_lower else r.text\n",
    "    elif os.path.exists(url):\n",
    "        with open(url, encoding=encoding) as f:\n",
    "            return f.read().lower() if to_lower else f.read()\n",
    "    else:\n",
    "        raise Exception('parameter [url] can be either URL or a filename')\n",
    "\n",
    "rus_stopwords_url = \"https://raw.githubusercontent.com/stopwords-iso/stopwords-ru/master/stopwords-ru.txt\"\n",
    "rus_stopwords = get_text_from_url(rus_stopwords_url).splitlines()"
   ],
   "metadata": {
    "collapsed": false,
    "pycharm": {
     "name": "#%%\n"
    }
   }
  },
  {
   "cell_type": "markdown",
   "source": [
    "### Получение текста из файлов электронных книг\n",
    "\n",
    "Функция читает файл epub, извлекает оттуда текст и удаляет из него xml теги при помощи регулярного выражения. <br>\n",
    "Полученный и очищенный текст созраняется в виде .txt файла."
   ],
   "metadata": {
    "collapsed": false,
    "pycharm": {
     "name": "#%% md\n"
    }
   }
  },
  {
   "cell_type": "code",
   "execution_count": 4,
   "outputs": [],
   "source": [
    "def get_text_from_epub(epub_file_path: Path, output_dir_path='./') -> str:\n",
    "    book = open_book(str(epub_file_path))\n",
    "    lines = convert_epub_to_lines(book)\n",
    "    cleaner = re.compile('<.*?>')\n",
    "\n",
    "    output_txt_filename = f'{output_dir_path}/{epub_file_path.stem}.txt'\n",
    "    with open(output_txt_filename, 'w', encoding='utf-8') as txt_file:\n",
    "        for line in lines:\n",
    "            line = re.sub(cleaner, '', line)\n",
    "            txt_file.write(line)\n",
    "\n",
    "    return output_txt_filename"
   ],
   "metadata": {
    "collapsed": false,
    "pycharm": {
     "name": "#%%\n"
    }
   }
  },
  {
   "cell_type": "markdown",
   "source": [
    "### Предварительная очистка и нормализация текстовых строк\n",
    "\n",
    "Из полученных текстовых строк необходимо удалить символы пунктуации, символы цифр и тп. <br>\n",
    "\n",
    "В текстах книг также могут встречаться странные аномалии, когда слово может содержать символы цифр, играющих роль букв\n",
    "(например, \"3акон\"). Такие аномалии необходимо выявлять и исключать. <br>\n",
    "\n",
    "Слова на английском языке также должны быть исключены из текста. Такие слова можно выявить путем проверки строки на наличие\n",
    "ascii символов."
   ],
   "metadata": {
    "collapsed": false,
    "pycharm": {
     "name": "#%% md\n"
    }
   }
  },
  {
   "cell_type": "code",
   "execution_count": 5,
   "outputs": [],
   "source": [
    "def remove_punctuation(text_string: str) -> str:\n",
    "    return re.sub(r'[^\\w\\s]', ' ', text_string)\n",
    "\n",
    "def has_numbers(text_string: str) -> bool:\n",
    "    return any(char.isdigit() for char in text_string)\n",
    "\n",
    "def has_ascii(text_string: str) -> bool:\n",
    "    return any(char.isascii() for char in text_string)\n",
    "\n",
    "def lemmatization(txt_file_path: str) -> str:\n",
    "    with open(txt_file_path, 'r', encoding='utf-8') as txt_file:\n",
    "        token_string = str()\n",
    "        for line in txt_file.readlines():\n",
    "            line = remove_punctuation(line)\n",
    "            for word in line.split():\n",
    "                if not any([word.isnumeric(), word.isascii(), has_numbers(word), has_ascii(word)]):\n",
    "                    token_string += ' ' + morph.parse(word.lower())[0].normal_form\n",
    "    return token_string"
   ],
   "metadata": {
    "collapsed": false,
    "pycharm": {
     "name": "#%%\n"
    }
   }
  },
  {
   "cell_type": "markdown",
   "source": [
    "### Подготовка датасета\n",
    "\n",
    "Следующая функция \"перебирает\" файлы электронных книг в соответствующим директориях\n",
    "и возвращает список обработанных, очищенных строк."
   ],
   "metadata": {
    "collapsed": false,
    "pycharm": {
     "name": "#%% md\n"
    }
   }
  },
  {
   "cell_type": "code",
   "execution_count": 6,
   "outputs": [
    {
     "name": "stdout",
     "output_type": "stream",
     "text": [
      "*** SCIENCE FICTION ***\n",
      "Azimov_Robbie was analysed.\n",
      "Azimov_Runaround was analysed.\n",
      "Bradbury_A_Sound_of_Thunder was analysed.\n",
      "Bradbury_The_Concrete_Mixer was analysed.\n",
      "Ellison_A_biy_and_his_dog was analysed.\n",
      "Ellison_I_Have_No_Mouth was analysed.\n",
      "Lem_End_of_the_World was analysed.\n",
      "Lem_Mask was analysed.\n",
      "Simak_Grotto_of_the_Dancing_Deer was analysed.\n",
      "Simak_New_Folks_Home was analysed.\n",
      "*** ****** ****** ****** ***\n",
      "*** ****** ****** ****** ***\n",
      "*** DETECTIVE STORIES ***\n",
      "Carr_Silver_curtain was analysed.\n",
      "Carr_The_Mystery_of_Great_Virley was analysed.\n",
      "Chesterton_Cross was analysed.\n",
      "Chesterton_Heaven was analysed.\n",
      "Conan_Doyle_Orange was analysed.\n",
      "Conan_Doyle_Scandal was analysed.\n",
      "Poe_Golden_Bug was analysed.\n",
      "Poe_Murders_in_the_Morgue was analysed.\n",
      "Rex_Stout_American_style was analysed.\n",
      "Rex_Stout_Love_story was analysed.\n",
      "*** ****** ****** ****** ***\n",
      "*** ****** ****** ****** ***\n"
     ]
    }
   ],
   "source": [
    "def list_directory(source_dir_path_name: str, target_dir_path_name: str, dataset: list) -> list:\n",
    "    path = Path(source_dir_path_name)\n",
    "    for ebook in path.iterdir():\n",
    "        txt_file_name = get_text_from_epub(ebook, target_dir_path_name)\n",
    "        tokens = lemmatization(txt_file_name)\n",
    "        dataset.append(tokens)\n",
    "        print(f'{ebook.stem} was analysed.')\n",
    "    return dataset\n",
    "\n",
    "dataset = list()\n",
    "print('*** SCIENCE FICTION ***')\n",
    "dataset = list_directory('./texts/science_fiction/russian/epub', './texts/science_fiction/russian/txt', dataset)\n",
    "print('*** ***' * 4)\n",
    "print('*** ***' * 4)\n",
    "\n",
    "print('*** DETECTIVE STORIES ***')\n",
    "dataset = list_directory('./texts/detective_stories/russian/epub', './texts/detective_stories/russian/txt',dataset)\n",
    "print('*** ***' * 4)\n",
    "print('*** ***' * 4)"
   ],
   "metadata": {
    "collapsed": false,
    "pycharm": {
     "name": "#%%\n"
    }
   }
  },
  {
   "cell_type": "markdown",
   "source": [
    "### Получение матрицы признаков TF-IDF\n",
    "\n",
    "TF-IDF (term frequency, inverse document) -- это статистическая мера,\n",
    "используемая для оценки важности слова в контексте документа,\n",
    "являющегося частью коллекции документов или корпуса.\n",
    "Вес некоторого слова пропорционален частоте употребления\n",
    "этого слова в документе и обратно пропорционален частоте употребления слова во всех документах коллекции."
   ],
   "metadata": {
    "collapsed": false,
    "pycharm": {
     "name": "#%% md\n"
    }
   }
  },
  {
   "cell_type": "code",
   "execution_count": 7,
   "outputs": [
    {
     "name": "stdout",
     "output_type": "stream",
     "text": [
      "Число уникальных слов: 13790\n",
      "['аарон' 'абзац' 'абонент' ... 'ящик' 'ящичек' 'ёкнуть']\n",
      "[[0.         0.         0.         ... 0.         0.         0.        ]\n",
      " [0.         0.         0.         ... 0.00337788 0.         0.        ]\n",
      " [0.         0.         0.         ... 0.00588033 0.         0.        ]\n",
      " ...\n",
      " [0.         0.         0.         ... 0.0162971  0.         0.        ]\n",
      " [0.         0.         0.         ... 0.         0.         0.        ]\n",
      " [0.         0.         0.         ... 0.03298587 0.         0.        ]]\n"
     ]
    },
    {
     "name": "stderr",
     "output_type": "stream",
     "text": [
      "C:\\Users\\Максим\\AppData\\Local\\Programs\\Python\\Python39\\lib\\site-packages\\sklearn\\feature_extraction\\text.py:396: UserWarning: Your stop_words may be inconsistent with your preprocessing. Tokenizing the stop words generated tokens ['хотел'] not in stop_words.\n",
      "  warnings.warn(\n"
     ]
    }
   ],
   "source": [
    "vectorizer = TfidfVectorizer(stop_words=rus_stopwords)\n",
    "x_vector = vectorizer.fit_transform(dataset)\n",
    "arr = x_vector.toarray()\n",
    "print(f\"Число уникальных слов: {arr.shape[1]}\")\n",
    "print(vectorizer.get_feature_names_out())\n",
    "print(x_vector.toarray())"
   ],
   "metadata": {
    "collapsed": false,
    "pycharm": {
     "name": "#%%\n"
    }
   }
  },
  {
   "cell_type": "markdown",
   "source": [],
   "metadata": {
    "collapsed": false,
    "pycharm": {
     "name": "#%% md\n"
    }
   }
  },
  {
   "cell_type": "code",
   "execution_count": 8,
   "outputs": [],
   "source": [
    "y_train = np.zeros(20)\n",
    "y_train[10:] = 1"
   ],
   "metadata": {
    "collapsed": false,
    "pycharm": {
     "name": "#%%\n"
    }
   }
  },
  {
   "cell_type": "markdown",
   "source": [
    "### Подготовка алгоритма KNN\n",
    "\n",
    "Основным варьируемым параметров является число ближайших соседей K."
   ],
   "metadata": {
    "collapsed": false,
    "pycharm": {
     "name": "#%% md\n"
    }
   }
  },
  {
   "cell_type": "code",
   "execution_count": 9,
   "outputs": [
    {
     "data": {
      "text/plain": "KNeighborsClassifier(n_neighbors=3)"
     },
     "execution_count": 9,
     "metadata": {},
     "output_type": "execute_result"
    }
   ],
   "source": [
    "k = 3\n",
    "model_knn = KNeighborsClassifier(n_neighbors=k)\n",
    "model_knn.fit(x_vector,y_train)"
   ],
   "metadata": {
    "collapsed": false,
    "pycharm": {
     "name": "#%%\n"
    }
   }
  },
  {
   "cell_type": "code",
   "execution_count": 17,
   "outputs": [
    {
     "name": "stdout",
     "output_type": "stream",
     "text": [
      " *** TESTING *** \n",
      "Christie_The_Double_Clue was analysed.\n",
      "Christie_The_Veiled_Lady was analysed.\n",
      "Clarke_Constellation_of_the_dog was analysed.\n",
      "Clarke_The_Nine_Billion_Names_of _God was analysed.\n",
      " *** *** ***  *** *** ***  *** *** ***  *** *** *** \n",
      "Christie_The_Double_Clue относится к жанру детектив c вероятностью 1.0\n",
      "Christie_The_Veiled_Lady относится к жанру детектив c вероятностью 1.0\n",
      "Clarke_Constellation_of_the_dog относится к жанру научная фантастика c вероятностью 0.6666666666666666\n",
      "Clarke_The_Nine_Billion_Names_of _God относится к жанру детектив c вероятностью 0.6666666666666666\n"
     ]
    }
   ],
   "source": [
    "genres = {\n",
    "    0: 'научная фантастика',\n",
    "    1: 'детектив'\n",
    "}\n",
    "\n",
    "print(\" *** TESTING *** \")\n",
    "test_dataset = list_directory('./test/epub', './test/txt', list())\n",
    "test_vector = vectorizer.transform(test_dataset)\n",
    "prediction = model_knn.predict(test_vector)\n",
    "prediction_probabilities = model_knn.predict_proba(test_vector)\n",
    "print(\" *** *** *** \" * 4)\n",
    "for number, ebook in enumerate(Path('./test/epub').iterdir()):\n",
    "    pred_index = int(prediction[number])\n",
    "    print(f\"{ebook.stem} относится к жанру {genres[pred_index]}\"\n",
    "       f\" c вероятностью {prediction_probabilities[number][pred_index]}\")"
   ],
   "metadata": {
    "collapsed": false,
    "pycharm": {
     "name": "#%%\n"
    }
   }
  }
 ],
 "metadata": {
  "kernelspec": {
   "display_name": "Python 3",
   "language": "python",
   "name": "python3"
  },
  "language_info": {
   "codemirror_mode": {
    "name": "ipython",
    "version": 2
   },
   "file_extension": ".py",
   "mimetype": "text/x-python",
   "name": "python",
   "nbconvert_exporter": "python",
   "pygments_lexer": "ipython2",
   "version": "2.7.6"
  }
 },
 "nbformat": 4,
 "nbformat_minor": 0
}